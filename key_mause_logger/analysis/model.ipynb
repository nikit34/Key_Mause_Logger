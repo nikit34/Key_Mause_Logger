{
 "cells": [
  {
   "cell_type": "code",
   "execution_count": 1,
   "metadata": {},
   "outputs": [],
   "source": [
    "import pandas as pd\n",
    "import numpy as np\n",
    "import random\n",
    "from sklearn.linear_model import LinearRegression\n",
    "import matplotlib.pyplot as plt"
   ]
  },
  {
   "cell_type": "code",
   "execution_count": 2,
   "metadata": {},
   "outputs": [],
   "source": [
    "data = pd.read_csv(\"../data/csv_data_keylogger.csv\")\n",
    "\n",
    "data['key_code'] = data['key_code'].dropna()\n",
    "data['timing_ms'] = data['timing_ms'].dropna()\n",
    "data['absolut_ms'] = data['absolut_ms'].dropna()\n",
    "data = data.loc[data['key_code'] != \"key_code\"]\n",
    "data = data.loc[data['key_code'] != \" \"]\n",
    "data = data.loc[data['timing_ms'] != \" \"]\n",
    "data = data.loc[data['absolut_ms'] != \" \"]\n",
    "data = data.loc[data['key_code'] != \"LBUTTON\"]\n",
    "data = data.loc[data['key_code'] != \"RBUTTON\"]\n",
    "data = data.loc[data['key_code'] != \"MBUTTON\"]\n",
    "\n",
    "for i in range(len(data)):\n",
    "    data.iloc[i,1] = int(data.iloc[i,1])"
   ]
  },
  {
   "cell_type": "code",
   "execution_count": 3,
   "metadata": {},
   "outputs": [
    {
     "data": {
      "text/html": [
       "<div>\n",
       "<style scoped>\n",
       "    .dataframe tbody tr th:only-of-type {\n",
       "        vertical-align: middle;\n",
       "    }\n",
       "\n",
       "    .dataframe tbody tr th {\n",
       "        vertical-align: top;\n",
       "    }\n",
       "\n",
       "    .dataframe thead th {\n",
       "        text-align: right;\n",
       "    }\n",
       "</style>\n",
       "<table border=\"1\" class=\"dataframe\">\n",
       "  <thead>\n",
       "    <tr style=\"text-align: right;\">\n",
       "      <th></th>\n",
       "      <th>key_code</th>\n",
       "      <th>timing_ms</th>\n",
       "      <th>absolut_ms</th>\n",
       "      <th>coord_X</th>\n",
       "      <th>coord_Y</th>\n",
       "    </tr>\n",
       "  </thead>\n",
       "  <tbody>\n",
       "    <tr>\n",
       "      <th>6</th>\n",
       "      <td>h</td>\n",
       "      <td>125</td>\n",
       "      <td>3612</td>\n",
       "      <td>NaN</td>\n",
       "      <td>NaN</td>\n",
       "    </tr>\n",
       "    <tr>\n",
       "      <th>7</th>\n",
       "      <td>e</td>\n",
       "      <td>344</td>\n",
       "      <td>3975</td>\n",
       "      <td>NaN</td>\n",
       "      <td>NaN</td>\n",
       "    </tr>\n",
       "    <tr>\n",
       "      <th>9</th>\n",
       "      <td>i</td>\n",
       "      <td>719</td>\n",
       "      <td>4924</td>\n",
       "      <td>NaN</td>\n",
       "      <td>NaN</td>\n",
       "    </tr>\n",
       "    <tr>\n",
       "      <th>10</th>\n",
       "      <td>d</td>\n",
       "      <td>188</td>\n",
       "      <td>5136</td>\n",
       "      <td>NaN</td>\n",
       "      <td>NaN</td>\n",
       "    </tr>\n",
       "    <tr>\n",
       "      <th>11</th>\n",
       "      <td>i</td>\n",
       "      <td>171</td>\n",
       "      <td>5328</td>\n",
       "      <td>NaN</td>\n",
       "      <td>NaN</td>\n",
       "    </tr>\n",
       "  </tbody>\n",
       "</table>\n",
       "</div>"
      ],
      "text/plain": [
       "   key_code timing_ms absolut_ms coord_X coord_Y\n",
       "6         h       125       3612     NaN     NaN\n",
       "7         e       344       3975     NaN     NaN\n",
       "9         i       719       4924     NaN     NaN\n",
       "10        d       188       5136     NaN     NaN\n",
       "11        i       171       5328     NaN     NaN"
      ]
     },
     "execution_count": 3,
     "metadata": {},
     "output_type": "execute_result"
    }
   ],
   "source": [
    "for i in range(len(data)):\n",
    "    data.iloc[i,2] = int(data.iloc[i,2])\n",
    "data['absolut_ms'] = data['absolut_ms'] - min(data['absolut_ms'])\n",
    "\n",
    "data = data[np.array(data['timing_ms']) < 1000.0]\n",
    "data.head()"
   ]
  },
  {
   "cell_type": "code",
   "execution_count": 4,
   "metadata": {},
   "outputs": [
    {
     "data": {
      "image/png": "[encoded data removed]",
      "text/plain": [
       "<Figure size 432x288 with 1 Axes>"
      ]
     },
     "metadata": {
      "needs_background": "light"
     },
     "output_type": "display_data"
    }
   ],
   "source": [
    "train_data = data.sample(frac=0.9, random_state=1)\n",
    "test_data = data.drop(train_data.index)\n",
    "x_train = train_data['absolut_ms'].values\n",
    "y_train = train_data['timing_ms'].values\n",
    "x_test = test_data['absolut_ms'].values\n",
    "y_test = test_data['timing_ms'].values\n",
    "\n",
    "plt.scatter(x_train, y_train, label='Training Dataset')\n",
    "plt.scatter(x_test, y_test, label='Test Dataset')\n",
    "plt.ylabel('timing_ms')\n",
    "plt.xlabel('absolut_ms')\n",
    "plt.title('Countries Happines')\n",
    "plt.legend()\n",
    "plt.show()"
   ]
  },
  {
   "cell_type": "code",
   "execution_count": 5,
   "metadata": {},
   "outputs": [],
   "source": [
    "reg = LinearRegression().fit(x_train.reshape(-1, 1), y_train)\n",
    "coef = reg.coef_\n",
    "intercept = reg.intercept_\n",
    "func_x = [i for i in range(int(min(x_train))-50,int(max(x_train))+50,1)]\n",
    "func_y = coef * func_x + intercept\n",
    "\n",
    "pred = reg.predict(x_test.reshape(-1, 1))"
   ]
  },
  {
   "cell_type": "code",
   "execution_count": 6,
   "metadata": {},
   "outputs": [
    {
     "data": {
      "image/png": "[encoded data removed]",
      "text/plain": [
       "<Figure size 432x288 with 1 Axes>"
      ]
     },
     "metadata": {},
     "output_type": "display_data"
    },
    {
     "name": "stdout",
     "output_type": "stream",
     "text": [
      "coef_:       -0.0011665357181437663 \n",
      "intercept_:  192.59457695937888\n"
     ]
    }
   ],
   "source": [
    "plt.plot(func_x, func_y, linewidth=3, label='Predicted linear dependen')\n",
    "plt.scatter(x_train, y_train, color='black', label='Training Dataset')\n",
    "plt.scatter(x_test, pred, color='blue', linewidth=3, label='x-test; y-pred')\n",
    "plt.scatter(x_test, y_test, color='green', linewidth=3, label='x-test; y-test')\n",
    "\n",
    "plt.xticks(())\n",
    "plt.yticks(())\n",
    "plt.ylabel('timing_ms')\n",
    "plt.xlabel('absolut_ms')\n",
    "plt.title('Countries Happines')\n",
    "plt.legend()\n",
    "plt.show()\n",
    "\n",
    "print(\"coef_:      \", coef[0], \"\\nintercept_: \", intercept)"
   ]
  },
  {
   "cell_type": "code",
   "execution_count": null,
   "metadata": {},
   "outputs": [],
   "source": []
  }
 ],
 "metadata": {
  "kernelspec": {
   "display_name": "Python 3",
   "language": "python",
   "name": "python3"
  },
  "language_info": {
   "codemirror_mode": {
    "name": "ipython",
    "version": 3
   },
   "file_extension": ".py",
   "mimetype": "text/x-python",
   "name": "python",
   "nbconvert_exporter": "python",
   "pygments_lexer": "ipython3",
   "version": "3.6.8"
  }
 },
 "nbformat": 4,
 "nbformat_minor": 2
}
